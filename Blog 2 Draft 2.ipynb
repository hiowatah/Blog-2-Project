{
 "cells": [
  {
   "cell_type": "code",
   "execution_count": 29,
   "metadata": {},
   "outputs": [],
   "source": [
    "import pandas as pd\n",
    "import matplotlib.pyplot as plt\n",
    "import json\n",
    "import requests\n",
    "import time"
   ]
  },
  {
   "cell_type": "code",
   "execution_count": 2,
   "metadata": {},
   "outputs": [],
   "source": [
    "df = pd.read_csv('GrandMaster_Player_Info.csv')"
   ]
  },
  {
   "cell_type": "code",
   "execution_count": 5,
   "metadata": {},
   "outputs": [],
   "source": [
    "df = df.drop(columns='Unnamed: 0')"
   ]
  },
  {
   "cell_type": "code",
   "execution_count": 53,
   "metadata": {},
   "outputs": [],
   "source": [
    "df2 = pd.DataFrame(columns=['Lane', 'GameID', 'Champion'])"
   ]
  },
  {
   "cell_type": "code",
   "execution_count": 36,
   "metadata": {},
   "outputs": [],
   "source": [
    "all_matches = []"
   ]
  },
  {
   "cell_type": "code",
   "execution_count": 62,
   "metadata": {},
   "outputs": [
    {
     "name": "stdout",
     "output_type": "stream",
     "text": [
      "reached limit - time to sleep\n",
      "reached limit - time to sleep\n",
      "reached limit - time to sleep\n",
      "reached limit - time to sleep\n",
      "reached limit - time to sleep\n",
      "reached limit - time to sleep\n",
      "reached limit - time to sleep\n"
     ]
    }
   ],
   "source": [
    "api_key = 'RGAPI-95e9ef81-91da-4bff-84ab-ec17442a2e1e'\n",
    "counter = 0\n",
    "lanes = []\n",
    "gameids = []\n",
    "champions = []\n",
    "for accounts in df['Account_ID']:\n",
    "    url = 'https://na1.api.riotgames.com/lol/match/v4/matchlists/by-account/' + accounts +'?endIndex=5&api_key=' + api_key\n",
    "    response = requests.get(url)\n",
    "    for num in range(0,5):\n",
    "        try:\n",
    "            lanes.append(response.json()['matches'][num]['lane'])\n",
    "            gameids.append(response.json()['matches'][num]['gameId'])\n",
    "            champions.append(response.json()['matches'][num]['champion'])\n",
    "        except:\n",
    "            pass\n",
    "    counter +=1\n",
    "    if counter == 100:\n",
    "        print('reached limit - time to sleep')\n",
    "        time.sleep(120)\n",
    "        counter = 0\n",
    "    \n",
    "    \n",
    "    \n",
    "    \n",
    "    "
   ]
  },
  {
   "cell_type": "code",
   "execution_count": 66,
   "metadata": {},
   "outputs": [],
   "source": [
    "df2['Lane'] = lanes\n",
    "df2['Champion'] = champions\n",
    "df2['GameID'] = gameids"
   ]
  },
  {
   "cell_type": "code",
   "execution_count": 68,
   "metadata": {},
   "outputs": [],
   "source": [
    "df2.to_csv('MatchID_Data.csv')"
   ]
  },
  {
   "cell_type": "code",
   "execution_count": 71,
   "metadata": {},
   "outputs": [],
   "source": [
    "Mid_lane_games = df2[df2['Lane'] == 'MID']"
   ]
  },
  {
   "cell_type": "code",
   "execution_count": 80,
   "metadata": {},
   "outputs": [],
   "source": [
    "most_played_champs = Mid_lane_games.groupby('Champion').count().sort_values('Lane', ascending = False)"
   ]
  },
  {
   "cell_type": "code",
   "execution_count": 82,
   "metadata": {},
   "outputs": [
    {
     "data": {
      "text/html": [
       "<div>\n",
       "<style scoped>\n",
       "    .dataframe tbody tr th:only-of-type {\n",
       "        vertical-align: middle;\n",
       "    }\n",
       "\n",
       "    .dataframe tbody tr th {\n",
       "        vertical-align: top;\n",
       "    }\n",
       "\n",
       "    .dataframe thead th {\n",
       "        text-align: right;\n",
       "    }\n",
       "</style>\n",
       "<table border=\"1\" class=\"dataframe\">\n",
       "  <thead>\n",
       "    <tr style=\"text-align: right;\">\n",
       "      <th></th>\n",
       "      <th>Lane</th>\n",
       "      <th>GameID</th>\n",
       "    </tr>\n",
       "    <tr>\n",
       "      <th>Champion</th>\n",
       "      <th></th>\n",
       "      <th></th>\n",
       "    </tr>\n",
       "  </thead>\n",
       "  <tbody>\n",
       "    <tr>\n",
       "      <th>238</th>\n",
       "      <td>49</td>\n",
       "      <td>49</td>\n",
       "    </tr>\n",
       "    <tr>\n",
       "      <th>7</th>\n",
       "      <td>22</td>\n",
       "      <td>22</td>\n",
       "    </tr>\n",
       "    <tr>\n",
       "      <th>142</th>\n",
       "      <td>21</td>\n",
       "      <td>21</td>\n",
       "    </tr>\n",
       "    <tr>\n",
       "      <th>157</th>\n",
       "      <td>19</td>\n",
       "      <td>19</td>\n",
       "    </tr>\n",
       "    <tr>\n",
       "      <th>84</th>\n",
       "      <td>18</td>\n",
       "      <td>18</td>\n",
       "    </tr>\n",
       "  </tbody>\n",
       "</table>\n",
       "</div>"
      ],
      "text/plain": [
       "          Lane  GameID\n",
       "Champion              \n",
       "238         49      49\n",
       "7           22      22\n",
       "142         21      21\n",
       "157         19      19\n",
       "84          18      18"
      ]
     },
     "execution_count": 82,
     "metadata": {},
     "output_type": "execute_result"
    }
   ],
   "source": [
    "most_played_champs.head()"
   ]
  },
  {
   "cell_type": "code",
   "execution_count": 99,
   "metadata": {},
   "outputs": [
    {
     "name": "stdout",
     "output_type": "stream",
     "text": [
      "  Lane      GameID  Champion\n",
      "1  MID  3015886743       142\n",
      "     Lane      GameID  Champion\n",
      "3460  MID  3014270362       238\n",
      "   Lane      GameID  Champion\n",
      "46  MID  3015729263         7\n",
      "   Lane      GameID  Champion\n",
      "95  MID  3011254514       157\n",
      "    Lane      GameID  Champion\n",
      "478  MID  3013920310        84\n"
     ]
    }
   ],
   "source": [
    "print(Mid_lane_games[Mid_lane_games.index == 1])\n",
    "print(Mid_lane_games[Mid_lane_games.index == 3460])\n",
    "print(Mid_lane_games[Mid_lane_games.index == 46])\n",
    "print(Mid_lane_games[Mid_lane_games.index == 95])\n",
    "print(Mid_lane_games[Mid_lane_games.index == 478])"
   ]
  },
  {
   "cell_type": "code",
   "execution_count": 100,
   "metadata": {},
   "outputs": [
    {
     "data": {
      "text/html": [
       "<div>\n",
       "<style scoped>\n",
       "    .dataframe tbody tr th:only-of-type {\n",
       "        vertical-align: middle;\n",
       "    }\n",
       "\n",
       "    .dataframe tbody tr th {\n",
       "        vertical-align: top;\n",
       "    }\n",
       "\n",
       "    .dataframe thead th {\n",
       "        text-align: right;\n",
       "    }\n",
       "</style>\n",
       "<table border=\"1\" class=\"dataframe\">\n",
       "  <thead>\n",
       "    <tr style=\"text-align: right;\">\n",
       "      <th></th>\n",
       "      <th>Lane</th>\n",
       "      <th>GameID</th>\n",
       "      <th>Champion</th>\n",
       "    </tr>\n",
       "  </thead>\n",
       "  <tbody>\n",
       "    <tr>\n",
       "      <th>0</th>\n",
       "      <td>MID</td>\n",
       "      <td>3015928183</td>\n",
       "      <td>142</td>\n",
       "    </tr>\n",
       "    <tr>\n",
       "      <th>1</th>\n",
       "      <td>MID</td>\n",
       "      <td>3015886743</td>\n",
       "      <td>142</td>\n",
       "    </tr>\n",
       "    <tr>\n",
       "      <th>3</th>\n",
       "      <td>MID</td>\n",
       "      <td>3015846686</td>\n",
       "      <td>38</td>\n",
       "    </tr>\n",
       "    <tr>\n",
       "      <th>6</th>\n",
       "      <td>MID</td>\n",
       "      <td>3015739551</td>\n",
       "      <td>45</td>\n",
       "    </tr>\n",
       "    <tr>\n",
       "      <th>7</th>\n",
       "      <td>MID</td>\n",
       "      <td>3015750507</td>\n",
       "      <td>82</td>\n",
       "    </tr>\n",
       "  </tbody>\n",
       "</table>\n",
       "</div>"
      ],
      "text/plain": [
       "  Lane      GameID  Champion\n",
       "0  MID  3015928183       142\n",
       "1  MID  3015886743       142\n",
       "3  MID  3015846686        38\n",
       "6  MID  3015739551        45\n",
       "7  MID  3015750507        82"
      ]
     },
     "execution_count": 100,
     "metadata": {},
     "output_type": "execute_result"
    }
   ],
   "source": [
    "Mid_lane_games.head()"
   ]
  },
  {
   "cell_type": "code",
   "execution_count": null,
   "metadata": {},
   "outputs": [],
   "source": []
  }
 ],
 "metadata": {
  "kernelspec": {
   "display_name": "Python 3",
   "language": "python",
   "name": "python3"
  },
  "language_info": {
   "codemirror_mode": {
    "name": "ipython",
    "version": 3
   },
   "file_extension": ".py",
   "mimetype": "text/x-python",
   "name": "python",
   "nbconvert_exporter": "python",
   "pygments_lexer": "ipython3",
   "version": "3.7.1"
  }
 },
 "nbformat": 4,
 "nbformat_minor": 2
}
